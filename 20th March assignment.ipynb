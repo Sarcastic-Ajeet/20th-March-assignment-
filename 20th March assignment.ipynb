{
 "cells": [
  {
   "cell_type": "raw",
   "id": "91bcf232-6178-4561-97f8-96e689210abe",
   "metadata": {},
   "source": [
    "Q1.Data Encoding is the process of converting categorical data into nominal data.Beacause in computer it does not understand the categorical data."
   ]
  },
  {
   "cell_type": "raw",
   "id": "0f75a169-e9fa-422c-95c2-108e366a2290",
   "metadata": {},
   "source": [
    "Q2.When we have unordered datasets then we need to perform nominal encoding.\n",
    "Supoose there are some objects in a store speaker ,phone,laptop,charger if we need to make them in nominal data.we perform like.\n",
    "speker,phone,laptop,charger\n",
    "speker-0001\n",
    "phone-0010\n",
    "laptop-0100\n",
    "charger-1000"
   ]
  },
  {
   "cell_type": "raw",
   "id": "bad704a2-8e9e-405c-8994-0e5bf6283628",
   "metadata": {},
   "source": [
    "Q4.I have 5 categorical item a,b,c,d,e. To convert them in nominal data i will use ine hot encoding it will make them in the order as\n",
    "a[1,0,0,0,0]\n",
    "a[0,1,0,0,0]\n",
    "a[0,0,1,0,0]\n",
    "a[0,0,0,1,0]\n",
    "a[0,0,0,0,1]"
   ]
  },
  {
   "cell_type": "raw",
   "id": "763f7e02-c8f7-42df-8c52-1704a742a071",
   "metadata": {},
   "source": [
    "Q3.When we a dataset which is related to one another for exam rating of moive.\n",
    "exellent,good,poor\n",
    "if we use one hot encodind it will convert them in numerical data but create 3 categorical item sets\n",
    "and if we use nomical encoding we can convert them by there precedec order.higher priority has higher rank \n",
    "exellent-1\n",
    "good-2\n",
    "poor-3"
   ]
  },
  {
   "cell_type": "raw",
   "id": "86fb25a3-a7c1-486e-96b4-0b98f47d4804",
   "metadata": {},
   "source": [
    "Q5.it depend on the unique category if column 1 has n unique and column 2 has m unique actegory then n+m new column will be generated.\n",
    "column1-n\n",
    "column2-m \n",
    "total new column = n+m"
   ]
  },
  {
   "cell_type": "raw",
   "id": "39131c5c-03e9-40fd-b605-1b00cd01ee75",
   "metadata": {},
   "source": [
    "Q6."
   ]
  },
  {
   "cell_type": "markdown",
   "id": "bc0d1a35-65e0-44d4-9fe2-8336f49cbcef",
   "metadata": {},
   "source": [
    "Q7.customer's gender, age, contract type,monthly charges, tenure\n",
    "here is only one categorical data tha is gender.Other will be categorical\n",
    "gender can be male female or trangender.\n",
    "So i would try to use orinal encoding(one hot encoding) to cenvert data  into nominal data."
   ]
  }
 ],
 "metadata": {
  "kernelspec": {
   "display_name": "Python 3 (ipykernel)",
   "language": "python",
   "name": "python3"
  },
  "language_info": {
   "codemirror_mode": {
    "name": "ipython",
    "version": 3
   },
   "file_extension": ".py",
   "mimetype": "text/x-python",
   "name": "python",
   "nbconvert_exporter": "python",
   "pygments_lexer": "ipython3",
   "version": "3.10.8"
  }
 },
 "nbformat": 4,
 "nbformat_minor": 5
}
